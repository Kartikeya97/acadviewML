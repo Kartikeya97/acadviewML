#Question no 1
​
import pandas as pd
data={"Name":["Divyansh","Kartikey","Ashutosh","Hitesh","Prerakh"] ,
      "Age":[18,17,16,21,22] ,
      "Mail_id":["zxc@gmail.com","asd@gmail.com","qwe@gmail.com","pklm@gmail.com","hjgbyk@gmail.com"],
      "phone_number":[1234567890,9765425797,7542837626,1875265431,9864387421]}
d=pd.DataFrame(data)
print(d)
​
​

output:

       Name  Age           Mail_id  phone_number
0  Divyansh   18     zxc@gmail.com    1234567890
1  Kartikey   17     asd@gmail.com    9765425797
2  Ashutosh   16     qwe@gmail.com    7542837626
3    Hitesh   21    pklm@gmail.com    1875265431
4   Prerakh   22  hjgbyk@gmail.com    9864387421
In [8]:


#Question no 2
import pandas as pd
Weather=pd.read_csv('https://raw.githubusercontent.com/Shreyas3108/Weather/master/weather.csv')
​

Weather.head()

Weather.head(10)
​
Weather.describe()

Weather.tail()


q=Weather.iloc[1]
q.describe()
