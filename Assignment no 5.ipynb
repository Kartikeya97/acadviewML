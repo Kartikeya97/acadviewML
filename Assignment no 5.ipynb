#Question no 1

import pandas as pd
df=pd.read_csv('https://raw.githubusercontent.com/Shreyas3108/Weather/master/weather.csv')
a=df.isnull().sum()
print(a)

print(df.dropna())

df=pd.read_csv('https://raw.githubusercontent.com/Shreyas3108/Weather/master/weather.csv')
q=df.fillna(df.mean)
print(q)