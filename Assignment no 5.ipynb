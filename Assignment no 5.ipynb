#Question no 1

import pandas as pd
df=pd.read_csv('https://raw.githubusercontent.com/Shreyas3108/Weather/master/weather.csv')
a=df.isnull().sum()
print(a)

print(df.dropna())

df=pd.read_csv('https://raw.githubusercontent.com/Shreyas3108/Weather/master/weather.csv')
q=df.fillna(df.mean)
print(q)

print(df.dtypes)

g=pd.Series(df.MinTemp)
print(g)
print('\n')
l=pd.Series(df.MaxTemp)
print(l)
print('\n')
j=pd.Series(df.Temp9am)
print(j)
print('\n')
p=pd.Series(df.Temp3pm)
print(p)