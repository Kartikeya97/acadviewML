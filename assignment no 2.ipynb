#Question no 1:


import numpy as np

a=np.random.rand(1,10)
b=np.mean(a)
print("Mean:",b)



#Question no 2:


import numpy as np

a=np.random.rand(1,20)
b=np.std(a)
c=np.var(a)
print("Standard deviation:",a)
print("Varience:",b)



#Question no 3:


import numpy as np

A=np.random.rand(10,20)
B=np.random.rand(20,25)
C=np.matmul(A,B)
print(C)
print(np.sum(C))



#Question no 4:


import numpy as np

A=np.random.rand(1,10)

print("Array A:\n",A)

for x in A:
 f=1/(1+np.exp(-x))
 
 print("New array:\n",f)

 


