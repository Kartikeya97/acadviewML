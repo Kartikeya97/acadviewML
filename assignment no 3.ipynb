
#Question no 1:

a=11/36    #P(A)
b=6/36     #P(B)
c=2/36     #P(A/B)

d=(c*b)/a

print(d)

0.0303030303030303


#Question no 2:

#bag1
bag1=1/2
w1=4/10
b1=6/10

#bag2
bag2=1/2
w2=4/7
b2=3/7

#calculating p(bag1/b1)

r=(bag1*b1)/((bag1*b2)+(bag2*b1))

print(r)

0.5833333333333334


#Question no 3

t=2/3
f=1/3
d6=1/6
d=5/6

r=(d6/t)/((d6*t)+(d*f))

print(r)


0.6428571428571428