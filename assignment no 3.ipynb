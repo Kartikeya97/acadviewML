{
 "cells": [
  {
   "cell_type": "code",
   "execution_count": 1,
   "metadata": {},
   "outputs": [
    {
     "name": "stdout",
     "output_type": "stream",
     "text": [
      "0.0303030303030303\n"
     ]
    }
   ],
   "source": [
    "\n",
    "#Question no 1:\n",
    "\n",
    "a=11/36    #P(A)\n",
    "b=6/36     #P(B)\n",
    "c=2/36     #P(A/B)\n",
    "\n",
    "d=(c*b)/a\n",
    "\n",
    "print(d)\n",
    "\n"
   ]
  },
  {
   "cell_type": "code",
   "execution_count": 2,
   "metadata": {},
   "outputs": [
    {
     "name": "stdout",
     "output_type": "stream",
     "text": [
      "0.5833333333333334\n"
     ]
    }
   ],
   "source": [
    "#Question no 2:\n",
    "\n",
    "#bag1\n",
    "bag1=1/2\n",
    "w1=4/10\n",
    "b1=6/10\n",
    "\n",
    "#bag2\n",
    "bag2=1/2\n",
    "w2=4/7\n",
    "b2=3/7\n",
    "\n",
    "#calculating p(bag1/b1)\n",
    "\n",
    "r=(bag1*b1)/((bag1*b2)+(bag2*b1))\n",
    "\n",
    "print(r)\n"
   ]
  },
  {
   "cell_type": "code",
   "execution_count": 3,
   "metadata": {},
   "outputs": [
    {
     "name": "stdout",
     "output_type": "stream",
     "text": [
      "0.6428571428571428\n"
     ]
    }
   ],
   "source": [
    "#Question no 3\n",
    "\n",
    "t=2/3\n",
    "f=1/3\n",
    "d6=1/6\n",
    "d=5/6\n",
    "\n",
    "r=(d6/t)/((d6*t)+(d*f))\n",
    "\n",
    "print(r)\n",
    "\n",
    "\n",
    "\n",
    "\n"
   ]
  }
 ],
 "metadata": {
  "kernelspec": {
   "display_name": "Python 3",
   "language": "python",
   "name": "python3"
  },
  "language_info": {
   "codemirror_mode": {
    "name": "ipython",
    "version": 3
   },
   "file_extension": ".py",
   "mimetype": "text/x-python",
   "name": "python",
   "nbconvert_exporter": "python",
   "pygments_lexer": "ipython3",
   "version": "3.6.6"
  }
 },
 "nbformat": 4,
 "nbformat_minor": 2
}
